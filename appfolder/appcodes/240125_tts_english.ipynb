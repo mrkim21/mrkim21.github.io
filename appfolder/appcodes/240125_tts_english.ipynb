{
  "nbformat": 4,
  "nbformat_minor": 0,
  "metadata": {
    "colab": {
      "private_outputs": true,
      "provenance": [],
      "authorship_tag": "ABX9TyNgwzcJr9h8c++Tcv8mdZ7B",
      "include_colab_link": true
    },
    "kernelspec": {
      "name": "python3",
      "display_name": "Python 3"
    },
    "language_info": {
      "name": "python"
    }
  },
  "cells": [
    {
      "cell_type": "markdown",
      "metadata": {
        "id": "view-in-github",
        "colab_type": "text"
      },
      "source": [
        "<a href=\"https://colab.research.google.com/github/mrkim21/mrkim21.github.io/blob/main/appfolder/appcodes/240125_tts_english.ipynb\" target=\"_parent\"><img src=\"https://colab.research.google.com/assets/colab-badge.svg\" alt=\"Open In Colab\"/></a>"
      ]
    },
    {
      "cell_type": "markdown",
      "source": [
        "# English Text-to-Speech\n",
        "\n",
        "[applink](https://mrkim21.github.io/appfolder/tts-english.html)"
      ],
      "metadata": {
        "id": "_2QwFuxyVXns"
      }
    },
    {
      "cell_type": "code",
      "source": [
        "!pip install gradio gtts"
      ],
      "metadata": {
        "id": "ipNE4E6HVViX"
      },
      "execution_count": null,
      "outputs": []
    },
    {
      "cell_type": "code",
      "execution_count": null,
      "metadata": {
        "id": "335dOn5FWFgK"
      },
      "outputs": [],
      "source": [
        "import gradio as gr\n",
        "from gtts import gTTS\n",
        "import os\n",
        "\n",
        "def generate_audio(text, dialect):\n",
        "    tts = gTTS(text=text, lang='en', tld=dialect)\n",
        "    filename = 'temp_audio.mp3'\n",
        "    tts.save(filename)\n",
        "    return filename\n",
        "\n",
        "# Define the dialect options for English\n",
        "dialect_options = [\"us\", \"co.uk\"]\n",
        "\n",
        "# Create the Gradio interface\n",
        "iface = gr.Interface(\n",
        "    fn=generate_audio,\n",
        "    inputs=[\n",
        "        gr.Textbox(lines=2, placeholder=\"Enter your text here...\"),\n",
        "        gr.Radio(choices=dialect_options, label=\"Choose English Dialect\")\n",
        "    ],\n",
        "    outputs=gr.Audio(label=\"Generated Audio\"),\n",
        "    title=\"English Text-to-Speech\",\n",
        "    description=\"Enter text and select an English dialect to generate speech.\"\n",
        ")\n",
        "\n",
        "iface.launch()\n"
      ]
    }
  ]
}