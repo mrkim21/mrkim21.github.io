{
  "nbformat": 4,
  "nbformat_minor": 0,
  "metadata": {
    "colab": {
      "private_outputs": true,
      "provenance": [],
      "authorship_tag": "ABX9TyOjuXXA2tdfYGyBl8n2NN/R",
      "include_colab_link": true
    },
    "kernelspec": {
      "name": "python3",
      "display_name": "Python 3"
    },
    "language_info": {
      "name": "python"
    }
  },
  "cells": [
    {
      "cell_type": "markdown",
      "metadata": {
        "id": "view-in-github",
        "colab_type": "text"
      },
      "source": [
        "<a href=\"https://colab.research.google.com/github/mrkim21/mrkim21.github.io/blob/main/appfolder/appcodes/20240128_groupijng.ipynb\" target=\"_parent\"><img src=\"https://colab.research.google.com/assets/colab-badge.svg\" alt=\"Open In Colab\"/></a>"
      ]
    },
    {
      "cell_type": "markdown",
      "source": [
        "# 🌀 Grouping\n",
        "\n",
        "[applink](https://mrkim21.github.io/appfolder/grouping.html)"
      ],
      "metadata": {
        "id": "NubR6OyVPlY1"
      }
    },
    {
      "cell_type": "code",
      "source": [
        "!pip install gradio"
      ],
      "metadata": {
        "id": "5ySKxzAAPjiM"
      },
      "execution_count": null,
      "outputs": []
    },
    {
      "cell_type": "code",
      "execution_count": null,
      "metadata": {
        "id": "nqIt07FpPL3n"
      },
      "outputs": [],
      "source": [
        "import pandas as pd\n",
        "import gradio as gr\n",
        "\n",
        "def group_names(file, members_per_group, fixed_groups_input):\n",
        "    # Read the CSV file\n",
        "    df = pd.read_csv(file.name, encoding='utf-8')\n",
        "\n",
        "    # Parse fixed groups input\n",
        "    fixed_groups = [group.strip() for group in fixed_groups_input.split(';') if group.strip()]\n",
        "    fixed_groups_df_list = []\n",
        "    remaining_df = df.copy()\n",
        "\n",
        "    # Process fixed groups and create a list for additional members to be added\n",
        "    for group in fixed_groups:\n",
        "        group_names = [name.strip() for name in group.split(',') if name.strip()]\n",
        "        # Find these names in the DataFrame\n",
        "        matched_rows = remaining_df[remaining_df['Names'].isin(group_names)]\n",
        "        fixed_groups_df_list.append(matched_rows)\n",
        "        # Remove these names from the pool of remaining names\n",
        "        remaining_df = remaining_df[~remaining_df['Names'].isin(group_names)]\n",
        "\n",
        "    # Shuffle the remaining DataFrame\n",
        "    remaining_df = remaining_df.sample(frac=1).reset_index(drop=True)\n",
        "\n",
        "    # Adjusting fixed groups to include additional members if they're under the specified group size\n",
        "    for i, group_df in enumerate(fixed_groups_df_list):\n",
        "        while len(group_df) < members_per_group and not remaining_df.empty:\n",
        "            group_df = pd.concat([group_df, remaining_df.iloc[[0]]])\n",
        "            remaining_df = remaining_df.iloc[1:].reset_index(drop=True)\n",
        "        fixed_groups_df_list[i] = group_df  # Update the group with added members\n",
        "\n",
        "    # Grouping the remaining names\n",
        "    groups = fixed_groups_df_list  # Start with adjusted fixed groups\n",
        "    for i in range(0, len(remaining_df), members_per_group):\n",
        "        groups.append(remaining_df[i:i + members_per_group])\n",
        "\n",
        "    # Determine the maximum group size\n",
        "    max_group_size = max(len(group) for group in groups)\n",
        "\n",
        "    # Creating a new DataFrame for grouped data with separate columns for each member\n",
        "    grouped_data = {'Group': [f'Group {i+1}' for i in range(len(groups))]}\n",
        "    # Add columns for each member\n",
        "    for i in range(max_group_size):\n",
        "        grouped_data[f'Member{i+1}'] = [group['Names'].tolist()[i] if i < len(group) else \"\" for group in groups]\n",
        "\n",
        "    grouped_df = pd.DataFrame(grouped_data)\n",
        "\n",
        "    return grouped_df\n",
        "\n",
        "def main_interface(file, members_per_group, fixed_groups_input):\n",
        "    grouped_df = group_names(file, members_per_group, fixed_groups_input)\n",
        "    # Save the DataFrame to a CSV file with UTF-8 encoding\n",
        "    output_filename = '/tmp/grouped_names.csv'\n",
        "    grouped_df.to_csv(output_filename, index=False, encoding='utf-8-sig')\n",
        "    return grouped_df, output_filename\n",
        "\n",
        "iface = gr.Interface(\n",
        "    fn=main_interface,\n",
        "    inputs=[\n",
        "        gr.File(label=\"Upload CSV File\"),\n",
        "        gr.Number(label=\"Members per Group\", value=5),\n",
        "        gr.Textbox(label=\"Fixed Groups (separated by semicolon;)\", placeholder=\"ame1, Name2; Name1, Name2\", value=\"4\"),\n",
        "    ],\n",
        "    outputs=[gr.Dataframe(label=\"Grouped Names\"), gr.File(label=\"Download Grouped Names CSV\")],\n",
        "    allow_flagging=\"never\"\n",
        ")\n",
        "\n",
        "iface.launch()\n"
      ]
    }
  ]
}
