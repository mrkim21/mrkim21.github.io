{
  "nbformat": 4,
  "nbformat_minor": 0,
  "metadata": {
    "colab": {
      "private_outputs": true,
      "provenance": [],
      "authorship_tag": "ABX9TyMVrMr7I0JWax5+BtM5fHm3",
      "include_colab_link": true
    },
    "kernelspec": {
      "name": "python3",
      "display_name": "Python 3"
    },
    "language_info": {
      "name": "python"
    }
  },
  "cells": [
    {
      "cell_type": "markdown",
      "metadata": {
        "id": "view-in-github",
        "colab_type": "text"
      },
      "source": [
        "<a href=\"https://colab.research.google.com/github/mrkim21/mrkim21.github.io/blob/main/appfolder/appcodes/20240115_tts_demo.ipynb\" target=\"_parent\"><img src=\"https://colab.research.google.com/assets/colab-badge.svg\" alt=\"Open In Colab\"/></a>"
      ]
    },
    {
      "cell_type": "markdown",
      "source": [
        "# 🌀 Language Learning App #1: Text-to-Speech Converter\n",
        "\n",
        "[applink](https://mrkim21.github.io/appfolder/ttsapp.html)"
      ],
      "metadata": {
        "id": "SyFb6cdiMd4e"
      }
    },
    {
      "cell_type": "code",
      "source": [
        "!pip install gtts gradio"
      ],
      "metadata": {
        "id": "IvqH0J8PMbbl"
      },
      "execution_count": null,
      "outputs": []
    },
    {
      "cell_type": "code",
      "execution_count": null,
      "metadata": {
        "id": "jO-AipNnMUYj"
      },
      "outputs": [],
      "source": [
        "import gtts\n",
        "import gradio as gr\n",
        "from gtts import gTTS\n",
        "\n",
        "def generate_speech(text, language):\n",
        "    tts = gTTS(text=text, lang=language)\n",
        "    tts.save(\"output.mp3\")\n",
        "    return \"output.mp3\"\n",
        "\n",
        "language_options = {\n",
        "    \"American English\": 'en',\n",
        "    \"Korean\": 'ko'\n",
        "    # Add more languages as needed\n",
        "}\n",
        "\n",
        "iface = gr.Interface(\n",
        "    fn=generate_speech,\n",
        "    inputs=[\n",
        "        gr.Textbox(lines=2, placeholder=\"Enter text here...\"),\n",
        "        gr.Radio(choices=list(language_options.keys()), label=\"Language\")\n",
        "    ],\n",
        "    outputs=\"audio\",\n",
        "    title=\"Text-to-Speech Converter\",\n",
        "    description=\"Enter text and choose a language to convert text to speech.\"\n",
        ")\n",
        "\n",
        "def process_text_and_language(text, language):\n",
        "    language_code = language_options[language]\n",
        "    return generate_speech(text, language_code)\n",
        "\n",
        "iface = gr.Interface(\n",
        "    fn=process_text_and_language,\n",
        "    inputs=[\n",
        "        gr.Textbox(lines=2, placeholder=\"Enter text here...\"),\n",
        "        gr.Radio(choices=list(language_options.keys()), label=\"Language\")\n",
        "    ],\n",
        "    outputs=\"audio\",\n",
        "    title=\"Text-to-Speech Converter\",\n",
        "    description=\"Enter text and choose a language to convert text to speech.\"\n",
        ")\n",
        "\n",
        "iface.launch()"
      ]
    }
  ]
}
