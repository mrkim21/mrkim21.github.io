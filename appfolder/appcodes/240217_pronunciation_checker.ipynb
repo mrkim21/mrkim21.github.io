{
  "nbformat": 4,
  "nbformat_minor": 0,
  "metadata": {
    "colab": {
      "private_outputs": true,
      "provenance": [],
      "authorship_tag": "ABX9TyNR/XdNrLLVtZaoDxWh7l50",
      "include_colab_link": true
    },
    "kernelspec": {
      "name": "python3",
      "display_name": "Python 3"
    },
    "language_info": {
      "name": "python"
    }
  },
  "cells": [
    {
      "cell_type": "markdown",
      "metadata": {
        "id": "view-in-github",
        "colab_type": "text"
      },
      "source": [
        "<a href=\"https://colab.research.google.com/github/mrkim21/mrkim21.github.io/blob/main/appfolder/appcodes/240217_pronunciation_checker.ipynb\" target=\"_parent\"><img src=\"https://colab.research.google.com/assets/colab-badge.svg\" alt=\"Open In Colab\"/></a>"
      ]
    },
    {
      "cell_type": "markdown",
      "source": [
        "# Pronunciation Checker\n",
        "\n",
        "[applink](https://mrkim21.github.io/appfolder/pronunciation-checker.html)"
      ],
      "metadata": {
        "id": "xYzN9CANTyWd"
      }
    },
    {
      "cell_type": "code",
      "source": [
        "!pip install gradio speech_recognition Levenshtein soundfile"
      ],
      "metadata": {
        "id": "_YlguMqjUolZ"
      },
      "execution_count": null,
      "outputs": []
    },
    {
      "cell_type": "code",
      "execution_count": null,
      "metadata": {
        "id": "7aw71NqgTxxK"
      },
      "outputs": [],
      "source": [
        "import gradio as gr\n",
        "import speech_recognition as sr\n",
        "from Levenshtein import ratio\n",
        "import tempfile\n",
        "import numpy as np\n",
        "import soundfile as sf\n",
        "\n",
        "def transcribe_audio(file_info):\n",
        "    r = sr.Recognizer()\n",
        "\n",
        "    # file_info[0] is the file name, file_info[1] is the NumPy array\n",
        "    # Save the NumPy array to a temporary WAV file\n",
        "    with tempfile.NamedTemporaryFile(delete=True, suffix=\".wav\") as tmpfile:\n",
        "        sf.write(file=tmpfile.name, data=file_info[1], samplerate=44100, format='WAV')\n",
        "        tmpfile.seek(0)\n",
        "\n",
        "        with sr.AudioFile(tmpfile.name) as source:\n",
        "            audio_data = r.record(source)\n",
        "\n",
        "    try:\n",
        "        text = r.recognize_google(audio_data)\n",
        "        return text\n",
        "    except sr.UnknownValueError:\n",
        "        return \"Could not understand audio\"\n",
        "    except sr.RequestError as e:\n",
        "        return f\"Could not request results; {e}\"\n",
        "\n",
        "def pronunciation_correction(expected_text, file_info):\n",
        "    user_spoken_text = transcribe_audio(file_info)\n",
        "    similarity = ratio(expected_text.lower(), user_spoken_text.lower())\n",
        "    if similarity > 0.8:\n",
        "        return \"Good pronunciation!\", similarity\n",
        "    else:\n",
        "        return \"Try again, make sure to pronounce clearly.\", similarity\n",
        "\n",
        "iface = gr.Interface(\n",
        "    fn=pronunciation_correction,\n",
        "    inputs=[\n",
        "        gr.Textbox(label=\"Expected Text\"),\n",
        "        gr.Audio(label=\"Upload Audio File\", type=\"numpy\")  # Specify type=\"numpy\" to ensure file_info[1] is a NumPy array\n",
        "    ],\n",
        "    outputs=[\"text\", \"number\"],\n",
        "    title=\"Pronunciation Correction Tool\"\n",
        ")\n",
        "\n",
        "iface.launch(debug=True)\n"
      ]
    }
  ]
}