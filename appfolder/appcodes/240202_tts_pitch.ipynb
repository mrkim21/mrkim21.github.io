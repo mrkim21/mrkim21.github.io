{
  "nbformat": 4,
  "nbformat_minor": 0,
  "metadata": {
    "colab": {
      "private_outputs": true,
      "provenance": [],
      "authorship_tag": "ABX9TyNE9DTf4g0Fp7Aa5FtfPbUj",
      "include_colab_link": true
    },
    "kernelspec": {
      "name": "python3",
      "display_name": "Python 3"
    },
    "language_info": {
      "name": "python"
    }
  },
  "cells": [
    {
      "cell_type": "markdown",
      "metadata": {
        "id": "view-in-github",
        "colab_type": "text"
      },
      "source": [
        "<a href=\"https://colab.research.google.com/github/mrkim21/mrkim21.github.io/blob/main/appfolder/appcodes/240202_tts_pitch.ipynb\" target=\"_parent\"><img src=\"https://colab.research.google.com/assets/colab-badge.svg\" alt=\"Open In Colab\"/></a>"
      ]
    },
    {
      "cell_type": "markdown",
      "source": [
        "# 🌀 TTS with pitch contour\n",
        "\n",
        "[applink](https://mrkim21.github.io/appfolder/tts-pitch.html)"
      ],
      "metadata": {
        "id": "NubR6OyVPlY1"
      }
    },
    {
      "cell_type": "code",
      "source": [
        "!pip install gradio librosa matplotlib gtts"
      ],
      "metadata": {
        "id": "5ySKxzAAPjiM"
      },
      "execution_count": null,
      "outputs": []
    },
    {
      "cell_type": "code",
      "execution_count": null,
      "metadata": {
        "id": "MgiCVRW-SbQG"
      },
      "outputs": [],
      "source": [
        "import gradio as gr\n",
        "import librosa\n",
        "import librosa.display\n",
        "import matplotlib.pyplot as plt\n",
        "import numpy as np\n",
        "from gtts import gTTS\n",
        "import io\n",
        "import os\n",
        "\n",
        "# This function is adapted to work with Gradio\n",
        "def generate_speech(text, lang='en'):\n",
        "    tts = gTTS(text=text, lang=lang)\n",
        "    audio_fp = io.BytesIO()\n",
        "    tts.write_to_fp(audio_fp)\n",
        "    audio_fp.seek(0)\n",
        "    output_file = 'output.wav'\n",
        "    with open(output_file, \"wb\") as f:\n",
        "        f.write(audio_fp.getvalue())\n",
        "    return output_file\n",
        "\n",
        "def plot_pitch_contour(audio_file_path):\n",
        "    y, sr = librosa.load(audio_file_path, sr=None)\n",
        "    fmin = librosa.note_to_hz('C2')\n",
        "    fmax = librosa.note_to_hz('C6')\n",
        "    pitch, voiced_flag, voiced_probs = librosa.pyin(y, fmin=fmin, fmax=fmax, sr=sr)\n",
        "    pitch[~np.isfinite(pitch)] = 0\n",
        "\n",
        "    # Create time axis in seconds\n",
        "    times = np.arange(len(y)) / sr\n",
        "\n",
        "    plt.figure(figsize=(14, 5))\n",
        "    plt.plot(times, y, label='Waveform')\n",
        "    plt.plot(librosa.times_like(pitch), pitch, 'ro', label='Pitch', markersize=2)\n",
        "    plt.title('Pitch Contour')\n",
        "    plt.xlabel('Time (s)')\n",
        "    plt.ylabel('Frequency (Hz)')\n",
        "    plt.legend()\n",
        "    plt.ylim(50, 350)  # Adjust the y-axis limits to the range of pitch values\n",
        "    plt.savefig('pitch_contour.png')\n",
        "    plt.close()\n",
        "    return 'pitch_contour.png'\n",
        "\n",
        "\n",
        "def generate_and_plot(text, lang):\n",
        "    audio_file = generate_speech(text, lang)\n",
        "    plot_img = plot_pitch_contour(audio_file)\n",
        "    return audio_file, plot_img\n",
        "\n",
        "# Gradio interface\n",
        "iface = gr.Interface(fn=generate_and_plot,\n",
        "                     inputs=[gr.Textbox(label=\"Enter Text\"), gr.Radio(['en', 'ko'], label=\"Language\")],\n",
        "                     outputs=[gr.Audio(label=\"Generated Speech\"), gr.Image(label=\"Pitch Contour\")],\n",
        "                     title=\"Speech Generation and Pitch Contour Visualization\",\n",
        "                     description=\"Generates speech from text and visualizes the pitch contour. Select a language and enter text to see the results.\")\n",
        "\n",
        "iface.launch(share=True)\n"
      ]
    }
  ]
}