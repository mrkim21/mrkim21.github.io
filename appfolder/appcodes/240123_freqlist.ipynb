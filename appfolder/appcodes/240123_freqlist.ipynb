{
  "nbformat": 4,
  "nbformat_minor": 0,
  "metadata": {
    "colab": {
      "private_outputs": true,
      "provenance": [],
      "authorship_tag": "ABX9TyPeTbvt2aSCmrTL3q+nLZct",
      "include_colab_link": true
    },
    "kernelspec": {
      "name": "python3",
      "display_name": "Python 3"
    },
    "language_info": {
      "name": "python"
    }
  },
  "cells": [
    {
      "cell_type": "markdown",
      "metadata": {
        "id": "view-in-github",
        "colab_type": "text"
      },
      "source": [
        "<a href=\"https://colab.research.google.com/github/mrkim21/mrkim21.github.io/blob/main/appfolder/appcodes/24_0123_freqlist.ipynb\" target=\"_parent\"><img src=\"https://colab.research.google.com/assets/colab-badge.svg\" alt=\"Open In Colab\"/></a>"
      ]
    },
    {
      "cell_type": "markdown",
      "source": [
        "# 🌀 Word Frequency list\n",
        "\n",
        "[applink](https://mrkim21.github.io/appfolder/freqlist.html)"
      ],
      "metadata": {
        "id": "NubR6OyVPlY1"
      }
    },
    {
      "cell_type": "code",
      "source": [
        "!pip install gradio gTTS"
      ],
      "metadata": {
        "id": "5ySKxzAAPjiM"
      },
      "execution_count": null,
      "outputs": []
    },
    {
      "cell_type": "code",
      "execution_count": null,
      "metadata": {
        "id": "DSoYxW--RFBL"
      },
      "outputs": [],
      "source": [
        "import gradio as gr\n",
        "from collections import Counter\n",
        "import string\n",
        "import csv\n",
        "import io\n",
        "\n",
        "def process_text(text, sorting_option):\n",
        "    # Remove punctuation from the input text\n",
        "    translator = str.maketrans('', '', string.punctuation)\n",
        "    text = text.translate(translator)\n",
        "\n",
        "    words = text.split()\n",
        "\n",
        "    # Count word frequencies\n",
        "    word_counts = Counter(words)\n",
        "\n",
        "    # Sort words based on the selected option\n",
        "    if sorting_option == 'alphabetically':\n",
        "        sorted_words = sorted(word_counts.items(), key=lambda x: x[0])\n",
        "    elif sorting_option == 'by_frequency':\n",
        "        sorted_words = sorted(word_counts.items(), key=lambda x: x[1], reverse=True)\n",
        "    else:\n",
        "        sorted_words = word_counts.items()\n",
        "\n",
        "    # Get the top 5 words with their frequencies\n",
        "    top_5_words = sorted_words\n",
        "\n",
        "    # Format the top 5 words and frequencies as an HTML table\n",
        "    table_html = \"<table style='width:100%'><tr><th>Index</th><th>Word</th><th>Frequency</th></tr>\"\n",
        "    for index, (word, freq) in enumerate(top_5_words, start=1):\n",
        "        table_html += f\"<tr><td>{index}</td><td>{word}</td><td>{freq}</td></tr>\"\n",
        "    table_html += \"</table>\"\n",
        "\n",
        "    # Create a CSV file\n",
        "    csv_data = [[\"Index\", \"Word\", \"Frequency\"]]\n",
        "    for index, (word, freq) in enumerate(top_5_words, start=1):\n",
        "        csv_data.append([index, word, freq])\n",
        "\n",
        "    # Write CSV data to a string buffer\n",
        "    csv_buffer = io.StringIO()\n",
        "    csv_writer = csv.writer(csv_buffer)\n",
        "    csv_writer.writerows(csv_data)\n",
        "    csv_buffer.seek(0)\n",
        "\n",
        "    # Create a download link for the CSV file\n",
        "    csv_download_link = f\"<a href='data:application/csv;charset=utf-8,{csv_buffer.getvalue()}' download='word_frequencies.csv'>Download CSV</a>\"\n",
        "\n",
        "    # Wrap the table in a div with a fixed height and scrolling\n",
        "    div_with_scroll = f\"<div style='height: 200px; overflow-y: scroll;'>{table_html}</div>\"\n",
        "\n",
        "    return div_with_scroll, csv_download_link\n",
        "\n",
        "iface = gr.Interface(\n",
        "    fn=process_text,\n",
        "    inputs=[gr.Textbox(\"text\", label=\"Paste Text Here\"),\n",
        "            gr.Radio([\"alphabetically\", \"by_frequency\", \"none\"], label=\"Select Sorting Option\")],\n",
        "    outputs=[gr.HTML(label=\"Top 5 Words with Frequencies\"), gr.HTML(label=\"Download CSV\")]\n",
        ")\n",
        "\n",
        "iface.launch(share=True)\n"
      ]
    }
  ]
}
