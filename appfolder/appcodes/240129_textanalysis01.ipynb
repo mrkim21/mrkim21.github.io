{
  "nbformat": 4,
  "nbformat_minor": 0,
  "metadata": {
    "colab": {
      "private_outputs": true,
      "provenance": [],
      "authorship_tag": "ABX9TyOh/3LIN65xF9FjGwXJIAPg",
      "include_colab_link": true
    },
    "kernelspec": {
      "name": "python3",
      "display_name": "Python 3"
    },
    "language_info": {
      "name": "python"
    }
  },
  "cells": [
    {
      "cell_type": "markdown",
      "metadata": {
        "id": "view-in-github",
        "colab_type": "text"
      },
      "source": [
        "<a href=\"https://colab.research.google.com/github/mrkim21/mrkim21.github.io/blob/main/appfolder/appcodes/240129_textanalysis01.ipynb\" target=\"_parent\"><img src=\"https://colab.research.google.com/assets/colab-badge.svg\" alt=\"Open In Colab\"/></a>"
      ]
    },
    {
      "cell_type": "markdown",
      "source": [
        "# Text Analysis Tool\n",
        "\n",
        "[applink](https://mrkim21.github.io/appfolder/textanalysis01.html)\n",
        "\n",
        "+ TTS\n",
        "+ Word count\n",
        "+ Lexical Diversity Measure (MTLD)\n",
        "+ FRE (Readability)\n",
        "+ FKG level (Readability)"
      ],
      "metadata": {
        "id": "_2QwFuxyVXns"
      }
    },
    {
      "cell_type": "code",
      "source": [
        "!pip install gradio math"
      ],
      "metadata": {
        "id": "ipNE4E6HVViX"
      },
      "execution_count": null,
      "outputs": []
    },
    {
      "cell_type": "code",
      "execution_count": null,
      "metadata": {
        "id": "4gYIUfvYXAgw"
      },
      "outputs": [],
      "source": [
        "import gradio as gr\n",
        "import re\n",
        "import math\n",
        "\n",
        "# Define the TTR, MTLD, and Flesch Reading Ease functions as previously described\n",
        "# ... (functions go here)\n",
        "\n",
        "# TTR\n",
        "\n",
        "def calculate_ttr(text):\n",
        "    words = re.findall(r'\\b[a-zA-Z]+\\b', text.lower())\n",
        "    unique_words = len(set(words))\n",
        "    total_words = len(words)\n",
        "    ttr = unique_words / total_words if total_words != 0 else 0\n",
        "    return math.ceil(ttr * 100) / 100  # Rounded up to 2 decimal places\n",
        "\n",
        "# MTLD\n",
        "\n",
        "def calculate_mtld(text, ttr_threshold=0.72):\n",
        "    def mtld_calculation(word_list, threshold):\n",
        "        token_count = 0\n",
        "        factor_count = 0\n",
        "        for i in range(len(word_list)):\n",
        "            token_count += 1\n",
        "            unique_words = len(set(word_list[:i + 1]))\n",
        "            current_ttr = unique_words / token_count\n",
        "            if current_ttr < threshold:\n",
        "                factor_count += 1\n",
        "                token_count = 0\n",
        "        if token_count > 0:\n",
        "            factor_count += token_count / len(word_list)\n",
        "        return len(word_list) / factor_count if factor_count != 0 else 0\n",
        "\n",
        "    words = re.findall(r'\\b[a-zA-Z]+\\b', text.lower())\n",
        "    mtld_forward = mtld_calculation(words, ttr_threshold)\n",
        "    mtld_backward = mtld_calculation(words[::-1], ttr_threshold)\n",
        "    mtld = (mtld_forward + mtld_backward) / 2\n",
        "    return math.ceil(mtld * 100) / 100  # Rounded up to 2 decimal places\n",
        "\n",
        "# Flesch Reading Ease\n",
        "\n",
        "def count_syllables(word):\n",
        "    syllable_count = 0\n",
        "    vowels = \"aeiouy\"\n",
        "    if word[0] in vowels:\n",
        "        syllable_count += 1\n",
        "    for index in range(1, len(word)):\n",
        "        if word[index] in vowels and word[index - 1] not in vowels:\n",
        "            syllable_count += 1\n",
        "    if word.endswith(\"e\"):\n",
        "        syllable_count -= 1\n",
        "    if syllable_count == 0:\n",
        "        syllable_count += 1\n",
        "    return syllable_count\n",
        "\n",
        "def calculate_flesch_reading_ease(text):\n",
        "    sentences = re.split(r'[.!?]+', text)\n",
        "    words = re.findall(r'\\b[a-zA-Z]+\\b', text)\n",
        "    total_sentences = len(sentences) - 1 if sentences[-1] == '' else len(sentences) # Adjusting for the case when text ends with a punctuation mark\n",
        "    total_words = len(words)\n",
        "    total_syllables = sum(count_syllables(word) for word in words)\n",
        "    if total_sentences == 0 or total_words == 0: # Prevent division by zero\n",
        "        return 0\n",
        "    flesch_score = 206.835 - 1.015 * (total_words / total_sentences) - 84.6 * (total_syllables / total_words)\n",
        "    return math.ceil(flesch_score * 100) / 100  # Rounded up to 2 decimal places\n",
        "\n",
        "def calculate_flesch_kincaid_grade_level(text):\n",
        "    sentences = re.split(r'[.!?]+', text)\n",
        "    words = re.findall(r'\\b[a-zA-Z]+\\b', text)\n",
        "    total_sentences = len(sentences) - 1 if sentences[-1] == '' else len(sentences)\n",
        "    total_words = len(words)\n",
        "    total_syllables = sum(count_syllables(word) for word in words)\n",
        "    if total_sentences == 0 or total_words == 0: # Prevent division by zero\n",
        "        return 0\n",
        "    fk_grade_level = 0.39 * (total_words / total_sentences) + 11.8 * (total_syllables / total_words) - 15.59\n",
        "    return math.ceil(fk_grade_level * 100) / 100  # Rounded up to 2 decimal places\n",
        "\n",
        "def analyze_text(text):\n",
        "    word_count = len(re.findall(r'\\b[a-zA-Z]+\\b', text))\n",
        "    ttr = calculate_ttr(text)\n",
        "    mtld = calculate_mtld(text)\n",
        "    flesch_score = calculate_flesch_reading_ease(text)\n",
        "    fk_grade_level = calculate_flesch_kincaid_grade_level(text)\n",
        "    return word_count, round(ttr, 2), round(mtld, 2), round(flesch_score, 2), round(fk_grade_level, 2)\n",
        "\n",
        "interface = gr.Interface(\n",
        "    fn=analyze_text,\n",
        "    inputs=gr.Textbox(lines=10, label=\"Input Text\"),\n",
        "    outputs=[\n",
        "        gr.Textbox(label=\"Word Count\"),\n",
        "        gr.Textbox(label=\"Type-Token Ratio (TTR)\"),\n",
        "        gr.Textbox(label=\"Measure of Textual Lexical Diversity (MTLD)\"),\n",
        "        gr.Textbox(label=\"Flesch Reading Ease (Readability measure)\"),\n",
        "        gr.Textbox(label=\"Flesch-Kincaid Grade Level (Readability index)\")\n",
        "    ],\n",
        "    title=\"Text Analysis Tool\",\n",
        "    description=\"Enter text to analyze its word count, Type-Token Ratio (TTR), Measure of Textual Lexical Diversity (MTLD), Flesch Reading Ease, and Flesch-Kincaid Grade Level. Note: The Flesch-Kincaid Grade Level indicates the U.S. school grade level needed to understand the text.\"\n",
        ")\n",
        "\n",
        "interface.launch()"
      ]
    }
  ]
}