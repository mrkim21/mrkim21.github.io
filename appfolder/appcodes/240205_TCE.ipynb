{
  "nbformat": 4,
  "nbformat_minor": 0,
  "metadata": {
    "colab": {
      "private_outputs": true,
      "provenance": [],
      "authorship_tag": "ABX9TyP5GqrdkIHtRzkrfyfCHZn0",
      "include_colab_link": true
    },
    "kernelspec": {
      "name": "python3",
      "display_name": "Python 3"
    },
    "language_info": {
      "name": "python"
    }
  },
  "cells": [
    {
      "cell_type": "markdown",
      "metadata": {
        "id": "view-in-github",
        "colab_type": "text"
      },
      "source": [
        "<a href=\"https://colab.research.google.com/github/mrkim21/mrkim21.github.io/blob/main/appfolder/appcodes/240205_TCE.ipynb\" target=\"_parent\"><img src=\"https://colab.research.google.com/assets/colab-badge.svg\" alt=\"Open In Colab\"/></a>"
      ]
    },
    {
      "cell_type": "markdown",
      "source": [
        "# 🌀 Teacher Certificate Exam Searching Engine [Phonetics, Phonology only] (asof 2024)\n",
        "\n",
        "[applink](hhttps://mrkim21.github.io/appfolder/TCE.html)"
      ],
      "metadata": {
        "id": "_2QwFuxyVXns"
      }
    },
    {
      "cell_type": "code",
      "source": [
        "!pip install gradio"
      ],
      "metadata": {
        "id": "ipNE4E6HVViX"
      },
      "execution_count": null,
      "outputs": []
    },
    {
      "cell_type": "code",
      "execution_count": null,
      "metadata": {
        "id": "1gdlHkjuYCfj"
      },
      "outputs": [],
      "source": [
        "import gradio as gr\n",
        "import pandas as pd\n",
        "\n",
        "# Load the DataFrame\n",
        "url = \"TExam_new.csv\"\n",
        "df = pd.read_csv(url, encoding='utf-8-sig')\n",
        "\n",
        "# Function to search years based on the selected mode\n",
        "def search_years(search_by_year, search_by_keywords, query):\n",
        "    if search_by_year and not search_by_keywords:\n",
        "        # Search by matching the first four characters of the 'YEAR' column\n",
        "        matches = df[df['YEAR'].str.startswith(query[:4])]\n",
        "        if matches.empty:\n",
        "            return \"No results found for your query.\"\n",
        "        return \", \".join(matches['YEAR'].tolist())  # Return a string of matched years\n",
        "    elif search_by_keywords and not search_by_year:\n",
        "        # Original keyword search logic\n",
        "        keyword_list = [keyword.strip() for keyword in query.split(',')]\n",
        "        matches = df[df['KEYWORDS'].apply(lambda x: any(keyword in x for keyword in keyword_list))]\n",
        "        if matches.empty:\n",
        "            return \"No results found for your query.\"\n",
        "        return \", \".join(matches['YEAR'].tolist())  # Return a string of matched years\n",
        "    else:\n",
        "        return \"Please select exactly one search mode.\"\n",
        "\n",
        "\n",
        "# Modified function to return keywords above the HTML image tag\n",
        "# ...\n",
        "\n",
        "def get_image_html(year):\n",
        "    match = df[df['YEAR'] == year]\n",
        "    if not match.empty:\n",
        "        # Assuming 'LINK' column has the partial path like '2006_1.PNG'\n",
        "        image_filename = match.iloc[0]['Filename']\n",
        "        # Construct the full URL by appending the filename to the base path\n",
        "        image_url = f'https://huggingface.co/spaces/MK-316/TCE/raw/main/TExams/{image_filename}'\n",
        "        keywords = match.iloc[0]['KEYWORDS']\n",
        "        # Place keywords above the image\n",
        "        return f\"<b>🌷 Keywords:</b> 🔑 {keywords}<br><img src='{image_url}' width='800'/>\"\n",
        "    else:\n",
        "        return \"No keywords found for this year.\", \"No image found for this year.\"\n",
        "\n",
        "# ...\n",
        "\n",
        "\n",
        "# Create Gradio Blocks interface\n",
        "with gr.Blocks() as app:\n",
        "    gr.Markdown(\"# Teacher Certificate Exam Searching Engine\")\n",
        "    gr.Markdown(\"## ❄️ [1] Search Data\")\n",
        "\n",
        "    # Row for checkboxes\n",
        "    with gr.Row():\n",
        "        search_by_year = gr.Checkbox(label=\"Search by YEAR\", value=False)\n",
        "        search_by_keywords = gr.Checkbox(label=\"Search Years by Keywords\", value=False)\n",
        "\n",
        "    # Row for search query, button and output\n",
        "    with gr.Row():\n",
        "        search_input = gr.Textbox(label=\"Search Query: e.g., 2024 (by YEAR) or tapping (by Keywords)\",\n",
        "                                  placeholder=\"Enter year or keywords separated by commas\")\n",
        "        search_button = gr.Button(\"Click to Search\")\n",
        "        search_output = gr.Text(label=\"Results (file names)\")\n",
        "\n",
        "    # Define actions\n",
        "    search_button.click(fn=search_years, inputs=[search_by_year, search_by_keywords, search_input], outputs=search_output)\n",
        "\n",
        "    gr.Markdown(\"## ❄️ [2] Display a Specific Exam Question Requested\")\n",
        "    with gr.Row():\n",
        "        year_input = gr.Textbox(label=\"Type a file name among the result items: e.g., Year_item_part(a,b)\", placeholder=\"Enter Year like '2024_01'\")\n",
        "        submit_button = gr.Button(\"Show me the exam question\")  # Updated button text\n",
        "    image_output = gr.HTML()\n",
        "\n",
        "    # Define action for the submit button\n",
        "    submit_button.click(fn=get_image_html, inputs=year_input, outputs=image_output)  # Use the button to trigger the display function\n",
        "\n",
        "# Launch the app with sharing options\n",
        "app.launch(debug=True)\n"
      ]
    }
  ]
}