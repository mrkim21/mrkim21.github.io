{
  "nbformat": 4,
  "nbformat_minor": 0,
  "metadata": {
    "colab": {
      "private_outputs": true,
      "provenance": [],
      "authorship_tag": "ABX9TyM54dv5W8SzBqipFX/FA4di",
      "include_colab_link": true
    },
    "kernelspec": {
      "name": "python3",
      "display_name": "Python 3"
    },
    "language_info": {
      "name": "python"
    }
  },
  "cells": [
    {
      "cell_type": "markdown",
      "metadata": {
        "id": "view-in-github",
        "colab_type": "text"
      },
      "source": [
        "<a href=\"https://colab.research.google.com/github/mrkim21/mrkim21.github.io/blob/main/appfolder/appcodes/240126_yesno_converter.ipynb\" target=\"_parent\"><img src=\"https://colab.research.google.com/assets/colab-badge.svg\" alt=\"Open In Colab\"/></a>"
      ]
    },
    {
      "cell_type": "markdown",
      "source": [
        "# Yes-no Question Converter\n",
        "\n",
        "[applink](https://mrkim21.github.io/appfolder/yesno-converter.html)"
      ],
      "metadata": {
        "id": "_2QwFuxyVXns"
      }
    },
    {
      "cell_type": "code",
      "source": [
        "!pip install gradio gtts"
      ],
      "metadata": {
        "id": "ipNE4E6HVViX"
      },
      "execution_count": null,
      "outputs": []
    },
    {
      "cell_type": "code",
      "execution_count": null,
      "metadata": {
        "id": "sC636fz1Wj5K"
      },
      "outputs": [],
      "source": [
        "import gradio as gr\n",
        "from gtts import gTTS\n",
        "\n",
        "\n",
        "def yesno_with_audio(sentence):\n",
        "    def yesno(sentence):\n",
        "        # Normalize the sentence by removing the period and making the first letter lowercase\n",
        "        sentence = sentence.strip()\n",
        "        sentence = sentence[0].lower() + sentence[1:].rstrip('.') if sentence[0] != 'I' else sentence.rstrip('.')\n",
        "        words = sentence.split()\n",
        "        aux = ['have to', 'has to', 'had to']\n",
        "        modals = ['will', 'may', 'can', 'would', 'could', 'should', 'might']\n",
        "        be_verbs = ['is', 'are', 'am', 'was', 'were']\n",
        "\n",
        "        # Identify the position of the first auxiliary, modal, or be verb\n",
        "        for i, word in enumerate(words):\n",
        "            if any(word == aux_word for phrase in aux for aux_word in phrase.split()) or word in modals or word in be_verbs:\n",
        "                subject = ' '.join(words[:i])\n",
        "                verb_phrase = ' '.join(words[i:])\n",
        "                # Adjust for auxiliary verbs\n",
        "                if any(word == aux_word for phrase in aux for aux_word in phrase.split()):\n",
        "                    do_form = \"Do\" if word == \"have\" else \"Does\" if word == \"has\" else \"Did\"\n",
        "                    verb_phrase = 'have to ' + ' '.join(words[i+2:])\n",
        "                    question = f\"{do_form.capitalize()} {subject} {verb_phrase}?\"\n",
        "                # Adjust for modal verbs\n",
        "                elif word in modals:\n",
        "                    question = f\"{word.capitalize()} {subject} {' '.join(words[i+1:])}?\"\n",
        "                # Adjust for 'be' verbs\n",
        "                elif word in be_verbs:\n",
        "                    question = f\"{word.capitalize()} {subject} {' '.join(words[i+1:])}?\"\n",
        "                return question\n",
        "\n",
        "        return \"This sentence does not contain a recognized structure for conversion.\"\n",
        "\n",
        "    question = yesno(sentence)\n",
        "    tts = gTTS(question, lang='en')\n",
        "    audio_file = 'output_audio.mp3'\n",
        "    tts.save(audio_file)\n",
        "\n",
        "    return question, audio_file\n",
        "\n",
        "\n",
        "\n",
        "\n",
        "iface = gr.Interface(\n",
        "    fn=yesno_with_audio,\n",
        "    inputs=gr.Textbox(lines=2, placeholder=\"Enter a sentence\"),\n",
        "    outputs=[\"text\", \"audio\"],\n",
        "    title=\"Yes-No Question Generator with Audio\",\n",
        "    description=\"This tool converts sentences into yes-no questions, handling auxiliaries, modal verbs, and 'be' verbs.\"\n",
        ")\n",
        "\n",
        "iface.launch()\n",
        "\n"
      ]
    }
  ]
}