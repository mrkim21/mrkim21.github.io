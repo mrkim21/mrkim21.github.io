{
  "nbformat": 4,
  "nbformat_minor": 0,
  "metadata": {
    "colab": {
      "private_outputs": true,
      "provenance": [],
      "authorship_tag": "ABX9TyOxb2r3mKY7Tsw/lnjpc7hW",
      "include_colab_link": true
    },
    "kernelspec": {
      "name": "python3",
      "display_name": "Python 3"
    },
    "language_info": {
      "name": "python"
    }
  },
  "cells": [
    {
      "cell_type": "markdown",
      "metadata": {
        "id": "view-in-github",
        "colab_type": "text"
      },
      "source": [
        "<a href=\"https://colab.research.google.com/github/mrkim21/mrkim21.github.io/blob/main/appfolder/appcodes/20240118_spelling.ipynb\" target=\"_parent\"><img src=\"https://colab.research.google.com/assets/colab-badge.svg\" alt=\"Open In Colab\"/></a>"
      ]
    },
    {
      "cell_type": "markdown",
      "source": [
        "# 🌀 Spelling checker\n",
        "\n",
        "[applink](https://mrkim21.github.io/appfolder/spelling.html)"
      ],
      "metadata": {
        "id": "NubR6OyVPlY1"
      }
    },
    {
      "cell_type": "code",
      "source": [
        "!pip install gradio gTTS"
      ],
      "metadata": {
        "id": "5ySKxzAAPjiM"
      },
      "execution_count": null,
      "outputs": []
    },
    {
      "cell_type": "code",
      "execution_count": null,
      "metadata": {
        "id": "CSXuKWtSP8wZ"
      },
      "outputs": [],
      "source": [
        "import pandas as pd\n",
        "import random\n",
        "from gtts import gTTS\n",
        "import gradio as gr\n",
        "\n",
        "# Function to read the CSV and choose a random word\n",
        "def choose_word():\n",
        "    data = pd.read_csv('./wordlist.csv')\n",
        "    chosen_row = random.choice(data.index)\n",
        "    word_info = data.loc[chosen_row]\n",
        "    return word_info\n",
        "\n",
        "# Function to generate speech from the chosen word\n",
        "def text_to_speech(word_info):\n",
        "    text = f\"This word is pronounced as {word_info['Words']}, and its part of speech is {word_info['POS']}. Here's a usage: {word_info['Usage']}. Write the spelling of this word.\"\n",
        "    tts = gTTS(text, lang='en')\n",
        "    tts.save('./word_audio.mp3')\n",
        "    return './word_audio.mp3', word_info['Words']\n",
        "\n",
        "# Function to check spelling\n",
        "def check_spelling(user_spelling, correct_spelling):\n",
        "    if user_spelling.strip().lower() == correct_spelling.lower():\n",
        "        return \"Correct!\"\n",
        "    else:\n",
        "        return f\"Incorrect! The correct spelling is {correct_spelling}.\"\n",
        "\n",
        "# Initialize the app\n",
        "def gradio_app():\n",
        "    word_info = choose_word()\n",
        "    audio_file, correct_spelling = text_to_speech(word_info)\n",
        "\n",
        "    def update_audio_file(_):\n",
        "        new_word_info = choose_word()\n",
        "        new_audio_file, new_correct_spelling = text_to_speech(new_word_info)\n",
        "        return new_audio_file, new_correct_spelling\n",
        "\n",
        "    with gr.Blocks() as demo:\n",
        "        audio = gr.Audio(value=audio_file, label=\"Listen to the word\", interactive=False)\n",
        "        spelling_input = gr.Textbox(label=\"Type the spelling here\")\n",
        "        submit_button = gr.Button(\"Submit\")\n",
        "        correct_label = gr.Label(\"\")\n",
        "        next_button = gr.Button(\"Next Word\")\n",
        "        state_correct_spelling = gr.State(value=correct_spelling)\n",
        "\n",
        "        submit_button.click(check_spelling, inputs=[spelling_input, state_correct_spelling], outputs=correct_label)\n",
        "        next_button.click(update_audio_file, inputs=[], outputs=[audio, state_correct_spelling])\n",
        "\n",
        "    return demo\n",
        "\n",
        "# Run the app\n",
        "gradio_app().launch()\n"
      ]
    }
  ]
}