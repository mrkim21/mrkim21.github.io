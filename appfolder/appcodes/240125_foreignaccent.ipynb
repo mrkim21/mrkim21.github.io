{
  "nbformat": 4,
  "nbformat_minor": 0,
  "metadata": {
    "colab": {
      "private_outputs": true,
      "provenance": [],
      "authorship_tag": "ABX9TyM5N9ohJx/ZmhoS7yaG/FyH",
      "include_colab_link": true
    },
    "kernelspec": {
      "name": "python3",
      "display_name": "Python 3"
    },
    "language_info": {
      "name": "python"
    }
  },
  "cells": [
    {
      "cell_type": "markdown",
      "metadata": {
        "id": "view-in-github",
        "colab_type": "text"
      },
      "source": [
        "<a href=\"https://colab.research.google.com/github/mrkim21/mrkim21.github.io/blob/main/appfolder/appcodes/240125_foreignaccent.ipynb\" target=\"_parent\"><img src=\"https://colab.research.google.com/assets/colab-badge.svg\" alt=\"Open In Colab\"/></a>"
      ]
    },
    {
      "cell_type": "markdown",
      "source": [
        "# Foreign Accented Speech\n",
        "\n",
        "[applink](https://mrkim21.github.io/appfolder/foreignaccent.html)"
      ],
      "metadata": {
        "id": "_2QwFuxyVXns"
      }
    },
    {
      "cell_type": "code",
      "source": [
        "!pip install gradio gtts"
      ],
      "metadata": {
        "id": "ipNE4E6HVViX"
      },
      "execution_count": null,
      "outputs": []
    },
    {
      "cell_type": "code",
      "execution_count": null,
      "metadata": {
        "id": "4NQK7sxIVUko"
      },
      "outputs": [],
      "source": [
        "import gradio as gr\n",
        "from gtts import gTTS\n",
        "\n",
        "def gradio_generate_audio(text, lang):\n",
        "    tts = gTTS(text=text, lang=lang)\n",
        "    filename = 'temp_audio.mp3'\n",
        "    tts.save(filename)\n",
        "    return filename\n",
        "\n",
        "# Define the language options\n",
        "lang_options = [\n",
        "    \"Korean (ko)\",\n",
        "    \"English (en, us)\",\n",
        "    \"Spanish (es)\",\n",
        "    \"French (fr)\",\n",
        "    \"Chinese (zh-CN)\",\n",
        "    \"Japanese (ja)\"\n",
        "]\n",
        "\n",
        "# Mapping function to convert language selection to language code\n",
        "def map_lang_selection_to_code(selection):\n",
        "    lang_code_mapping = {\n",
        "        \"Korean (ko)\": \"ko\",\n",
        "        \"English (en, us)\": \"en\",\n",
        "        \"Spanish (es)\": \"es\",\n",
        "        \"French (fr)\": \"fr\",\n",
        "        \"Chinese (zh-CN)\": \"zh-CN\",\n",
        "        \"Japanese (ja)\": \"ja\"\n",
        "    }\n",
        "    return lang_code_mapping[selection]\n",
        "\n",
        "# Create Gradio interface\n",
        "iface = gr.Interface(\n",
        "    fn=lambda text, lang: gradio_generate_audio(text, map_lang_selection_to_code(lang)),\n",
        "    inputs=[\n",
        "        gr.Textbox(lines=2, placeholder=\"Enter Text Here...\"),\n",
        "        gr.Radio(choices=lang_options, label=\"Language\")\n",
        "    ],\n",
        "    outputs=gr.Audio(label=\"Generated Audio\"),\n",
        "    title=\"Text-to-Speech Converter\",\n",
        "    description=\"Select a language and enter text to generate speech.\"\n",
        ")\n",
        "\n",
        "iface.launch()\n"
      ]
    }
  ]
}