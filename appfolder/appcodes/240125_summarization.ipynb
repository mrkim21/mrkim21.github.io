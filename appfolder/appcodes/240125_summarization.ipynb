{
  "nbformat": 4,
  "nbformat_minor": 0,
  "metadata": {
    "colab": {
      "private_outputs": true,
      "provenance": [],
      "authorship_tag": "ABX9TyPQnBKln/ncPYzQFwETbNyt",
      "include_colab_link": true
    },
    "kernelspec": {
      "name": "python3",
      "display_name": "Python 3"
    },
    "language_info": {
      "name": "python"
    }
  },
  "cells": [
    {
      "cell_type": "markdown",
      "metadata": {
        "id": "view-in-github",
        "colab_type": "text"
      },
      "source": [
        "<a href=\"https://colab.research.google.com/github/mrkim21/mrkim21.github.io/blob/main/appfolder/appcodes/240125_summarization.ipynb\" target=\"_parent\"><img src=\"https://colab.research.google.com/assets/colab-badge.svg\" alt=\"Open In Colab\"/></a>"
      ]
    },
    {
      "cell_type": "markdown",
      "source": [
        "# 🌀 Summarization\n",
        "\n",
        "[applink](https://mrkim21.github.io/appfolder/summarization.html)"
      ],
      "metadata": {
        "id": "NubR6OyVPlY1"
      }
    },
    {
      "cell_type": "code",
      "source": [
        "!pip install gradio transformers"
      ],
      "metadata": {
        "id": "5ySKxzAAPjiM"
      },
      "execution_count": null,
      "outputs": []
    },
    {
      "cell_type": "code",
      "execution_count": null,
      "metadata": {
        "id": "DBFi93QmR2_h"
      },
      "outputs": [],
      "source": [
        "import gradio as gr\n",
        "from transformers import pipeline\n",
        "\n",
        "# Initialize the summarization pipeline\n",
        "model_name = \"sshleifer/distilbart-cnn-12-6\"\n",
        "summarizer = pipeline(\"summarization\", model=model_name)\n",
        "\n",
        "def generate_summary(text):\n",
        "    summary_text = summarizer(text, max_length=130, min_length=30, do_sample=False)\n",
        "    return summary_text[0]['summary_text']\n",
        "\n",
        "# Create a Gradio interface with custom labels\n",
        "interface = gr.Interface(fn=generate_summary,\n",
        "                         inputs=gr.Textbox(lines=10,\n",
        "                                                  placeholder=\"Enter Text Here...\",\n",
        "                                                  label=\"Input Text for Summarization\"),\n",
        "                         outputs=gr.Textbox(label=\"Summarized Text\"),\n",
        "                         title=\"Text Summarization\",\n",
        "                         description=\"Enter a block of text to generate a concise summary using a Transformers model\")\n",
        "\n",
        "# Launch the interface\n",
        "interface.launch()\n"
      ]
    }
  ]
}