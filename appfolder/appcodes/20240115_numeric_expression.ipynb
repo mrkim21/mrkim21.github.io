{
  "nbformat": 4,
  "nbformat_minor": 0,
  "metadata": {
    "colab": {
      "private_outputs": true,
      "provenance": [],
      "authorship_tag": "ABX9TyP9nG0fad8XfHdkveZZejd5",
      "include_colab_link": true
    },
    "kernelspec": {
      "name": "python3",
      "display_name": "Python 3"
    },
    "language_info": {
      "name": "python"
    }
  },
  "cells": [
    {
      "cell_type": "markdown",
      "metadata": {
        "id": "view-in-github",
        "colab_type": "text"
      },
      "source": [
        "<a href=\"https://colab.research.google.com/github/mrkim21/mrkim21.github.io/blob/main/appfolder/appcodes/20240115_numeric_expression.ipynb\" target=\"_parent\"><img src=\"https://colab.research.google.com/assets/colab-badge.svg\" alt=\"Open In Colab\"/></a>"
      ]
    },
    {
      "cell_type": "markdown",
      "source": [
        "# NumericExpressionReader: Sample\n",
        "\n",
        "[applink](https://mrkim21.github.io/NumericExpressionReader.html)"
      ],
      "metadata": {
        "id": "DVfH_igQNb5m"
      }
    },
    {
      "cell_type": "code",
      "source": [
        "!pip install gradio"
      ],
      "metadata": {
        "id": "HLhNVJNSNZfN"
      },
      "execution_count": null,
      "outputs": []
    },
    {
      "cell_type": "code",
      "execution_count": null,
      "metadata": {
        "id": "kn6bQf3vNOSU"
      },
      "outputs": [],
      "source": [
        "import gradio as gr\n",
        "\n",
        "def calculator(operation, a, b):\n",
        "    if operation == 'Add':\n",
        "        return a + b\n",
        "    elif operation == 'Subtract':\n",
        "        return a - b\n",
        "    elif operation == 'Multiply':\n",
        "        return a * b\n",
        "    elif operation == 'Divide':\n",
        "        return a / b if b != 0 else 'Error: Division by zero'\n",
        "\n",
        "# Create the Gradio interface with the correct inputs for the radio buttons\n",
        "iface = gr.Interface(\n",
        "    fn=calculator,\n",
        "    inputs=[\n",
        "        gr.Radio(choices=['Add', 'Subtract', 'Multiply', 'Divide'], label=\"Operation\"),\n",
        "        gr.Number(label=\"a\"),\n",
        "        gr.Number(label=\"b\")\n",
        "    ],\n",
        "    outputs=gr.Textbox(label=\"The result is:\"),\n",
        "    title=\"Simple Calculator\",\n",
        "    description=\"Select an operation and enter two numbers to perform basic arithmetic.\"\n",
        ")\n",
        "\n",
        "# Launch the app\n",
        "iface.launch()"
      ]
    }
  ]
}