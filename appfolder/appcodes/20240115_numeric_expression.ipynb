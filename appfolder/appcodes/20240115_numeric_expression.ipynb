{
  "nbformat": 4,
  "nbformat_minor": 0,
  "metadata": {
    "colab": {
      "private_outputs": true,
      "provenance": [],
      "authorship_tag": "ABX9TyPgEivDxWcVRgwp+3KnIByu",
      "include_colab_link": true
    },
    "kernelspec": {
      "name": "python3",
      "display_name": "Python 3"
    },
    "language_info": {
      "name": "python"
    }
  },
  "cells": [
    {
      "cell_type": "markdown",
      "metadata": {
        "id": "view-in-github",
        "colab_type": "text"
      },
      "source": [
        "<a href=\"https://colab.research.google.com/github/mrkim21/mrkim21.github.io/blob/main/appfolder/appcodes/20240115_numeric_expression.ipynb\" target=\"_parent\"><img src=\"https://colab.research.google.com/assets/colab-badge.svg\" alt=\"Open In Colab\"/></a>"
      ]
    },
    {
      "cell_type": "markdown",
      "source": [
        "# NumericExpressionReader: Sample\n",
        "\n",
        "[applink](https://mrkim21.github.io/NumericExpressionReader.html)"
      ],
      "metadata": {
        "id": "DVfH_igQNb5m"
      }
    },
    {
      "cell_type": "code",
      "source": [
        "!pip install gradio pyqrcode"
      ],
      "metadata": {
        "id": "HLhNVJNSNZfN"
      },
      "execution_count": null,
      "outputs": []
    },
    {
      "cell_type": "code",
      "execution_count": null,
      "metadata": {
        "id": "kn6bQf3vNOSU"
      },
      "outputs": [],
      "source": [
        "import gradio as gr\n",
        "import pyqrcode\n",
        "import os\n",
        "\n",
        "# Function to generate QR code and save as an image file\n",
        "def generate_qr_code(link):\n",
        "    url = pyqrcode.create(link)\n",
        "    file_name = \"myqrcode.png\"\n",
        "    url.png(file_name, scale=10)\n",
        "    return file_name\n",
        "\n",
        "# Create Gradio Interface\n",
        "iface = gr.Interface(\n",
        "    fn=generate_qr_code,\n",
        "    inputs=gr.Textbox(lines=2, placeholder=\"Enter URL Here...\"),\n",
        "    outputs=\"image\",\n",
        "    title=\"QR Code Generator\",\n",
        "    description=\"Paste a link and generate its QR code.\"\n",
        ")\n",
        "\n",
        "# Launch the interface\n",
        "iface.launch()\n"
      ]
    }
  ]
}